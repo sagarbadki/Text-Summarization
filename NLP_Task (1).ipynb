{
  "nbformat": 4,
  "nbformat_minor": 0,
  "metadata": {
    "colab": {
      "name": "NLP Task.ipynb",
      "provenance": [],
      "collapsed_sections": [],
      "toc_visible": true
    },
    "kernelspec": {
      "name": "python3",
      "display_name": "Python 3"
    },
    "accelerator": "GPU"
  },
  "cells": [
    {
      "cell_type": "code",
      "metadata": {
        "id": "nn9Gm-7HPHiS",
        "colab_type": "code",
        "colab": {
          "base_uri": "https://localhost:8080/",
          "height": 119
        },
        "outputId": "43ff9dc8-97c5-447e-f16c-98bd27bdbfd6"
      },
      "source": [
        "# data reading and intializing libraries\n",
        "import pandas as pd\n",
        "import numpy as np\n",
        "\n",
        "# text preprocessing libraries\n",
        "import nltk\n",
        "nltk.download('stopwords')\n",
        "nltk.download('punkt')\n",
        "nltk.download('wordnet')\n",
        "from nltk.corpus import stopwords\n",
        "import re\n",
        "import heapq\n"
      ],
      "execution_count": null,
      "outputs": [
        {
          "output_type": "stream",
          "text": [
            "[nltk_data] Downloading package stopwords to /root/nltk_data...\n",
            "[nltk_data]   Package stopwords is already up-to-date!\n",
            "[nltk_data] Downloading package punkt to /root/nltk_data...\n",
            "[nltk_data]   Package punkt is already up-to-date!\n",
            "[nltk_data] Downloading package wordnet to /root/nltk_data...\n",
            "[nltk_data]   Package wordnet is already up-to-date!\n"
          ],
          "name": "stdout"
        }
      ]
    },
    {
      "cell_type": "code",
      "metadata": {
        "id": "p0nAvkuqPZ34",
        "colab_type": "code",
        "colab": {}
      },
      "source": [
        "df=pd.read_excel('/content/drive/My Drive/Copy of TASK.xlsx',index_col=False)"
      ],
      "execution_count": null,
      "outputs": []
    },
    {
      "cell_type": "code",
      "metadata": {
        "id": "S4YwxW4mP8yf",
        "colab_type": "code",
        "colab": {
          "base_uri": "https://localhost:8080/",
          "height": 204
        },
        "outputId": "00592504-1b18-4a7a-a8c6-22afb51e5308"
      },
      "source": [
        "df.head()"
      ],
      "execution_count": null,
      "outputs": [
        {
          "output_type": "execute_result",
          "data": {
            "text/html": [
              "<div>\n",
              "<style scoped>\n",
              "    .dataframe tbody tr th:only-of-type {\n",
              "        vertical-align: middle;\n",
              "    }\n",
              "\n",
              "    .dataframe tbody tr th {\n",
              "        vertical-align: top;\n",
              "    }\n",
              "\n",
              "    .dataframe thead th {\n",
              "        text-align: right;\n",
              "    }\n",
              "</style>\n",
              "<table border=\"1\" class=\"dataframe\">\n",
              "  <thead>\n",
              "    <tr style=\"text-align: right;\">\n",
              "      <th></th>\n",
              "      <th>TEST DATASET</th>\n",
              "      <th>Unnamed: 1</th>\n",
              "    </tr>\n",
              "  </thead>\n",
              "  <tbody>\n",
              "    <tr>\n",
              "      <th>0</th>\n",
              "      <td>NaN</td>\n",
              "      <td>Introduction</td>\n",
              "    </tr>\n",
              "    <tr>\n",
              "      <th>1</th>\n",
              "      <td>NaN</td>\n",
              "      <td>Acnesol Gel is an antibiotic that fights bacte...</td>\n",
              "    </tr>\n",
              "    <tr>\n",
              "      <th>2</th>\n",
              "      <td>NaN</td>\n",
              "      <td>Ambrodil Syrup is used for treating various re...</td>\n",
              "    </tr>\n",
              "    <tr>\n",
              "      <th>3</th>\n",
              "      <td>NaN</td>\n",
              "      <td>Augmentin 625 Duo Tablet is a penicillin-type ...</td>\n",
              "    </tr>\n",
              "    <tr>\n",
              "      <th>4</th>\n",
              "      <td>NaN</td>\n",
              "      <td>Azithral 500 Tablet is an antibiotic used to t...</td>\n",
              "    </tr>\n",
              "  </tbody>\n",
              "</table>\n",
              "</div>"
            ],
            "text/plain": [
              "   TEST DATASET                                         Unnamed: 1\n",
              "0           NaN                                       Introduction\n",
              "1           NaN  Acnesol Gel is an antibiotic that fights bacte...\n",
              "2           NaN  Ambrodil Syrup is used for treating various re...\n",
              "3           NaN  Augmentin 625 Duo Tablet is a penicillin-type ...\n",
              "4           NaN  Azithral 500 Tablet is an antibiotic used to t..."
            ]
          },
          "metadata": {
            "tags": []
          },
          "execution_count": 255
        }
      ]
    },
    {
      "cell_type": "code",
      "metadata": {
        "id": "Q1WJGz4ZP-qy",
        "colab_type": "code",
        "colab": {
          "base_uri": "https://localhost:8080/",
          "height": 34
        },
        "outputId": "60e36ff3-dce1-4f1a-d3d6-e29110fdfbf7"
      },
      "source": [
        "df.columns"
      ],
      "execution_count": null,
      "outputs": [
        {
          "output_type": "execute_result",
          "data": {
            "text/plain": [
              "Index(['TEST DATASET', 'Unnamed: 1'], dtype='object')"
            ]
          },
          "metadata": {
            "tags": []
          },
          "execution_count": 256
        }
      ]
    },
    {
      "cell_type": "code",
      "metadata": {
        "id": "UhZDbzPyQRZn",
        "colab_type": "code",
        "colab": {}
      },
      "source": [
        "df.drop('TEST DATASET', axis=1,inplace=True)"
      ],
      "execution_count": null,
      "outputs": []
    },
    {
      "cell_type": "code",
      "metadata": {
        "id": "BEphHDQ4QxLu",
        "colab_type": "code",
        "colab": {}
      },
      "source": [
        "df.rename(columns={'Unnamed: 1':'Introduction'},inplace=True)"
      ],
      "execution_count": null,
      "outputs": []
    },
    {
      "cell_type": "code",
      "metadata": {
        "id": "ibaAOoK4Qzf_",
        "colab_type": "code",
        "colab": {}
      },
      "source": [
        "df.drop(0,inplace=True)"
      ],
      "execution_count": null,
      "outputs": []
    },
    {
      "cell_type": "code",
      "metadata": {
        "id": "45gWzQBzTWa1",
        "colab_type": "code",
        "colab": {
          "base_uri": "https://localhost:8080/",
          "height": 204
        },
        "outputId": "68867a2a-89ec-415e-fd61-11ffc0440797"
      },
      "source": [
        "#final Data\n",
        "df.reset_index(inplace=True)\n",
        "df.head()"
      ],
      "execution_count": null,
      "outputs": [
        {
          "output_type": "execute_result",
          "data": {
            "text/html": [
              "<div>\n",
              "<style scoped>\n",
              "    .dataframe tbody tr th:only-of-type {\n",
              "        vertical-align: middle;\n",
              "    }\n",
              "\n",
              "    .dataframe tbody tr th {\n",
              "        vertical-align: top;\n",
              "    }\n",
              "\n",
              "    .dataframe thead th {\n",
              "        text-align: right;\n",
              "    }\n",
              "</style>\n",
              "<table border=\"1\" class=\"dataframe\">\n",
              "  <thead>\n",
              "    <tr style=\"text-align: right;\">\n",
              "      <th></th>\n",
              "      <th>index</th>\n",
              "      <th>Introduction</th>\n",
              "    </tr>\n",
              "  </thead>\n",
              "  <tbody>\n",
              "    <tr>\n",
              "      <th>0</th>\n",
              "      <td>1</td>\n",
              "      <td>Acnesol Gel is an antibiotic that fights bacte...</td>\n",
              "    </tr>\n",
              "    <tr>\n",
              "      <th>1</th>\n",
              "      <td>2</td>\n",
              "      <td>Ambrodil Syrup is used for treating various re...</td>\n",
              "    </tr>\n",
              "    <tr>\n",
              "      <th>2</th>\n",
              "      <td>3</td>\n",
              "      <td>Augmentin 625 Duo Tablet is a penicillin-type ...</td>\n",
              "    </tr>\n",
              "    <tr>\n",
              "      <th>3</th>\n",
              "      <td>4</td>\n",
              "      <td>Azithral 500 Tablet is an antibiotic used to t...</td>\n",
              "    </tr>\n",
              "    <tr>\n",
              "      <th>4</th>\n",
              "      <td>5</td>\n",
              "      <td>Alkasol Oral Solution is a medicine used in th...</td>\n",
              "    </tr>\n",
              "  </tbody>\n",
              "</table>\n",
              "</div>"
            ],
            "text/plain": [
              "   index                                       Introduction\n",
              "0      1  Acnesol Gel is an antibiotic that fights bacte...\n",
              "1      2  Ambrodil Syrup is used for treating various re...\n",
              "2      3  Augmentin 625 Duo Tablet is a penicillin-type ...\n",
              "3      4  Azithral 500 Tablet is an antibiotic used to t...\n",
              "4      5  Alkasol Oral Solution is a medicine used in th..."
            ]
          },
          "metadata": {
            "tags": []
          },
          "execution_count": 260
        }
      ]
    },
    {
      "cell_type": "code",
      "metadata": {
        "id": "7YwEtrVJQ_mt",
        "colab_type": "code",
        "colab": {
          "base_uri": "https://localhost:8080/",
          "height": 137
        },
        "outputId": "70e26aff-6764-4fc7-d453-6e1ceeb8d3d3"
      },
      "source": [
        "df['Introduction'][1]"
      ],
      "execution_count": null,
      "outputs": [
        {
          "output_type": "execute_result",
          "data": {
            "application/vnd.google.colaboratory.intrinsic": {
              "type": "string"
            },
            "text/plain": [
              "\"Ambrodil Syrup is used for treating various respiratory tract disorders associated with excessive mucus. It works by thinning and loosens mucus in the nose, windpipe and lungs and make it easier to cough out.Ambrodil Syrup should be taken with food. For better results, it is suggested to take it at the same time every day.\\xa0 The dose and how often you take it depends on what you are taking it for. Your doctor will decide how much you need to improve your symptoms.\\xa0 It is advised not to use it for more than 14 days without doctor consultation.The most common side effects of this medicine include vomiting, nausea, and stomach upset. Talk to your doctor if you are worried about side effects or they would not go away. Generally, it is advised not to take alcohol while on treatment.Before taking this medicine, tell your doctor if you have liver or kidney disease or if you have stomach problems. Your doctor should also know about all other medicines you are taking as many of these may make this medicine less effective or change the way it works. You must take doctor's advice before using this medicine if you are pregnant or breastfeeding.\""
            ]
          },
          "metadata": {
            "tags": []
          },
          "execution_count": 261
        }
      ]
    },
    {
      "cell_type": "markdown",
      "metadata": {
        "id": "DbWFsz022Nd0",
        "colab_type": "text"
      },
      "source": [
        "# We have two general methods to do Text Summerization:\n",
        "\n",
        "## 1] Extractive Method:\n",
        "     We identify the important sentences or phrases from the original text and extract only those from the text.\n",
        "\n",
        "## 2] Abstractive Method:\n",
        "     Here, we generate new sentences from the original text, The sentences generated through abstractive summarization might not be present in the original text. It is difficult to Implement\n",
        "      \n",
        "    \n",
        "  \n"
      ]
    },
    {
      "cell_type": "markdown",
      "metadata": {
        "id": "N_cHJDQB5Vyo",
        "colab_type": "text"
      },
      "source": [
        "I am going to use Extractive Method beacuse this is unsupervised problem."
      ]
    },
    {
      "cell_type": "code",
      "metadata": {
        "id": "FttiK1wjr9Lg",
        "colab_type": "code",
        "colab": {}
      },
      "source": [
        "# Tokenize all the sentences per each Introduction of the Products\n",
        "sentence_list = [nltk.sent_tokenize(sent) for sent in df['Introduction']]"
      ],
      "execution_count": null,
      "outputs": []
    },
    {
      "cell_type": "code",
      "metadata": {
        "id": "ugzmYfIWwWSY",
        "colab_type": "code",
        "colab": {}
      },
      "source": [
        "# create an object for remvoe stopwords like(I, am, the, etc.)\n",
        "stopwords=stopwords.words('english')\n",
        "\n",
        "for i in range(len(df)):\n",
        "  # find out Weighted Frequency of words\n",
        "  word_frequencies = {}\n",
        "  for word in nltk.word_tokenize(df['Introduction'][i]):\n",
        "      if word not in stopwords:\n",
        "          if word not in word_frequencies.keys():\n",
        "              word_frequencies[word] = 1\n",
        "          else:\n",
        "              word_frequencies[word] += 1\n",
        "  \n",
        "  maximum_frequency = max(word_frequencies.values())\n",
        "\n",
        "  # Formula to calculate weighted frequency\n",
        "  for word in word_frequencies.keys():\n",
        "    word_frequencies[word] = (word_frequencies[word]/maximum_frequncy)\n",
        "  \n",
        "  # Count the score for each sentences and who will be having high score get selected for the Summary\n",
        "  sentence_scores = {}\n",
        "  for sent in sentence_list[i]:    \n",
        "    for word in nltk.word_tokenize(sent.lower()):\n",
        "        if word in word_frequencies.keys():\n",
        "            # threshold value\n",
        "            if len(sent.split(' ')) < 30:\n",
        "                if sent not in sentence_scores.keys():\n",
        "                    sentence_scores[sent] = word_frequencies[word]\n",
        "                else:\n",
        "                    sentence_scores[sent] += word_frequencies[word]\n",
        "\n",
        "  # I am choosing heapq library for taking the first five sentences, You can play with it.\n",
        "  summary_sentences = heapq.nlargest(5, sentence_scores, key=sentence_scores.get)\n",
        "\n",
        "  summary = ' '.join(summary_sentences)\n",
        "  # I am submitting direct to the dataframe\n",
        "  df.loc[df.index[i], 'Summary'] = summary"
      ],
      "execution_count": null,
      "outputs": []
    },
    {
      "cell_type": "code",
      "metadata": {
        "id": "2eHqKKLtwpl9",
        "colab_type": "code",
        "colab": {
          "base_uri": "https://localhost:8080/",
          "height": 419
        },
        "outputId": "4019a694-4861-4a3a-c72a-441803a6b62a"
      },
      "source": [
        "df"
      ],
      "execution_count": null,
      "outputs": [
        {
          "output_type": "execute_result",
          "data": {
            "text/html": [
              "<div>\n",
              "<style scoped>\n",
              "    .dataframe tbody tr th:only-of-type {\n",
              "        vertical-align: middle;\n",
              "    }\n",
              "\n",
              "    .dataframe tbody tr th {\n",
              "        vertical-align: top;\n",
              "    }\n",
              "\n",
              "    .dataframe thead th {\n",
              "        text-align: right;\n",
              "    }\n",
              "</style>\n",
              "<table border=\"1\" class=\"dataframe\">\n",
              "  <thead>\n",
              "    <tr style=\"text-align: right;\">\n",
              "      <th></th>\n",
              "      <th>index</th>\n",
              "      <th>Introduction</th>\n",
              "      <th>Summary</th>\n",
              "    </tr>\n",
              "  </thead>\n",
              "  <tbody>\n",
              "    <tr>\n",
              "      <th>0</th>\n",
              "      <td>1</td>\n",
              "      <td>Acnesol Gel is an antibiotic that fights bacte...</td>\n",
              "      <td>Ask your doctor when you should stop treatment...</td>\n",
              "    </tr>\n",
              "    <tr>\n",
              "      <th>1</th>\n",
              "      <td>2</td>\n",
              "      <td>Ambrodil Syrup is used for treating various re...</td>\n",
              "      <td>It is advised not to use it for more than 14 d...</td>\n",
              "    </tr>\n",
              "    <tr>\n",
              "      <th>2</th>\n",
              "      <td>3</td>\n",
              "      <td>Augmentin 625 Duo Tablet is a penicillin-type ...</td>\n",
              "      <td>It is used to treat infections of the lungs (e...</td>\n",
              "    </tr>\n",
              "    <tr>\n",
              "      <th>3</th>\n",
              "      <td>4</td>\n",
              "      <td>Azithral 500 Tablet is an antibiotic used to t...</td>\n",
              "      <td>Azithral 500 Tablet is an antibiotic used to t...</td>\n",
              "    </tr>\n",
              "    <tr>\n",
              "      <th>4</th>\n",
              "      <td>5</td>\n",
              "      <td>Alkasol Oral Solution is a medicine used in th...</td>\n",
              "      <td>It may also cause diarrhea, excessive producti...</td>\n",
              "    </tr>\n",
              "    <tr>\n",
              "      <th>...</th>\n",
              "      <td>...</td>\n",
              "      <td>...</td>\n",
              "      <td>...</td>\n",
              "    </tr>\n",
              "    <tr>\n",
              "      <th>995</th>\n",
              "      <td>996</td>\n",
              "      <td>Azapure Tablet belongs to a group of medicines...</td>\n",
              "      <td>Swallow it as a whole,  do not crush, chew, br...</td>\n",
              "    </tr>\n",
              "    <tr>\n",
              "      <th>996</th>\n",
              "      <td>997</td>\n",
              "      <td>Arimidex 1mg Tablet  is used alone or with oth...</td>\n",
              "      <td>Arimidex 1mg Tablet  is used alone or with oth...</td>\n",
              "    </tr>\n",
              "    <tr>\n",
              "      <th>997</th>\n",
              "      <td>998</td>\n",
              "      <td>Arpimune ME 100mg Capsule is used to prevent y...</td>\n",
              "      <td>You will have frequent medical tests while tak...</td>\n",
              "    </tr>\n",
              "    <tr>\n",
              "      <th>998</th>\n",
              "      <td>999</td>\n",
              "      <td>Amlodac CH Tablet is a combination medicine us...</td>\n",
              "      <td>You should have your blood pressure, kidney fu...</td>\n",
              "    </tr>\n",
              "    <tr>\n",
              "      <th>999</th>\n",
              "      <td>1000</td>\n",
              "      <td>Angizem CD 120 Capsule ER is used to treat ang...</td>\n",
              "      <td>Also, inform your doctor if you have very low ...</td>\n",
              "    </tr>\n",
              "  </tbody>\n",
              "</table>\n",
              "<p>1000 rows × 3 columns</p>\n",
              "</div>"
            ],
            "text/plain": [
              "     index  ...                                            Summary\n",
              "0        1  ...  Ask your doctor when you should stop treatment...\n",
              "1        2  ...  It is advised not to use it for more than 14 d...\n",
              "2        3  ...  It is used to treat infections of the lungs (e...\n",
              "3        4  ...  Azithral 500 Tablet is an antibiotic used to t...\n",
              "4        5  ...  It may also cause diarrhea, excessive producti...\n",
              "..     ...  ...                                                ...\n",
              "995    996  ...  Swallow it as a whole,  do not crush, chew, br...\n",
              "996    997  ...  Arimidex 1mg Tablet  is used alone or with oth...\n",
              "997    998  ...  You will have frequent medical tests while tak...\n",
              "998    999  ...  You should have your blood pressure, kidney fu...\n",
              "999   1000  ...  Also, inform your doctor if you have very low ...\n",
              "\n",
              "[1000 rows x 3 columns]"
            ]
          },
          "metadata": {
            "tags": []
          },
          "execution_count": 279
        }
      ]
    },
    {
      "cell_type": "code",
      "metadata": {
        "id": "5M5zXUuixLKt",
        "colab_type": "code",
        "colab": {}
      },
      "source": [
        "df.drop('index',axis=1,inplace=True)"
      ],
      "execution_count": 280,
      "outputs": []
    },
    {
      "cell_type": "code",
      "metadata": {
        "id": "PswGFOQv74yH",
        "colab_type": "code",
        "colab": {
          "base_uri": "https://localhost:8080/",
          "height": 419
        },
        "outputId": "56b723ff-4894-4fe5-9b2b-953ed6fe221d"
      },
      "source": [
        "df"
      ],
      "execution_count": 281,
      "outputs": [
        {
          "output_type": "execute_result",
          "data": {
            "text/html": [
              "<div>\n",
              "<style scoped>\n",
              "    .dataframe tbody tr th:only-of-type {\n",
              "        vertical-align: middle;\n",
              "    }\n",
              "\n",
              "    .dataframe tbody tr th {\n",
              "        vertical-align: top;\n",
              "    }\n",
              "\n",
              "    .dataframe thead th {\n",
              "        text-align: right;\n",
              "    }\n",
              "</style>\n",
              "<table border=\"1\" class=\"dataframe\">\n",
              "  <thead>\n",
              "    <tr style=\"text-align: right;\">\n",
              "      <th></th>\n",
              "      <th>Introduction</th>\n",
              "      <th>Summary</th>\n",
              "    </tr>\n",
              "  </thead>\n",
              "  <tbody>\n",
              "    <tr>\n",
              "      <th>0</th>\n",
              "      <td>Acnesol Gel is an antibiotic that fights bacte...</td>\n",
              "      <td>Ask your doctor when you should stop treatment...</td>\n",
              "    </tr>\n",
              "    <tr>\n",
              "      <th>1</th>\n",
              "      <td>Ambrodil Syrup is used for treating various re...</td>\n",
              "      <td>It is advised not to use it for more than 14 d...</td>\n",
              "    </tr>\n",
              "    <tr>\n",
              "      <th>2</th>\n",
              "      <td>Augmentin 625 Duo Tablet is a penicillin-type ...</td>\n",
              "      <td>It is used to treat infections of the lungs (e...</td>\n",
              "    </tr>\n",
              "    <tr>\n",
              "      <th>3</th>\n",
              "      <td>Azithral 500 Tablet is an antibiotic used to t...</td>\n",
              "      <td>Azithral 500 Tablet is an antibiotic used to t...</td>\n",
              "    </tr>\n",
              "    <tr>\n",
              "      <th>4</th>\n",
              "      <td>Alkasol Oral Solution is a medicine used in th...</td>\n",
              "      <td>It may also cause diarrhea, excessive producti...</td>\n",
              "    </tr>\n",
              "    <tr>\n",
              "      <th>...</th>\n",
              "      <td>...</td>\n",
              "      <td>...</td>\n",
              "    </tr>\n",
              "    <tr>\n",
              "      <th>995</th>\n",
              "      <td>Azapure Tablet belongs to a group of medicines...</td>\n",
              "      <td>Swallow it as a whole,  do not crush, chew, br...</td>\n",
              "    </tr>\n",
              "    <tr>\n",
              "      <th>996</th>\n",
              "      <td>Arimidex 1mg Tablet  is used alone or with oth...</td>\n",
              "      <td>Arimidex 1mg Tablet  is used alone or with oth...</td>\n",
              "    </tr>\n",
              "    <tr>\n",
              "      <th>997</th>\n",
              "      <td>Arpimune ME 100mg Capsule is used to prevent y...</td>\n",
              "      <td>You will have frequent medical tests while tak...</td>\n",
              "    </tr>\n",
              "    <tr>\n",
              "      <th>998</th>\n",
              "      <td>Amlodac CH Tablet is a combination medicine us...</td>\n",
              "      <td>You should have your blood pressure, kidney fu...</td>\n",
              "    </tr>\n",
              "    <tr>\n",
              "      <th>999</th>\n",
              "      <td>Angizem CD 120 Capsule ER is used to treat ang...</td>\n",
              "      <td>Also, inform your doctor if you have very low ...</td>\n",
              "    </tr>\n",
              "  </tbody>\n",
              "</table>\n",
              "<p>1000 rows × 2 columns</p>\n",
              "</div>"
            ],
            "text/plain": [
              "                                          Introduction                                            Summary\n",
              "0    Acnesol Gel is an antibiotic that fights bacte...  Ask your doctor when you should stop treatment...\n",
              "1    Ambrodil Syrup is used for treating various re...  It is advised not to use it for more than 14 d...\n",
              "2    Augmentin 625 Duo Tablet is a penicillin-type ...  It is used to treat infections of the lungs (e...\n",
              "3    Azithral 500 Tablet is an antibiotic used to t...  Azithral 500 Tablet is an antibiotic used to t...\n",
              "4    Alkasol Oral Solution is a medicine used in th...  It may also cause diarrhea, excessive producti...\n",
              "..                                                 ...                                                ...\n",
              "995  Azapure Tablet belongs to a group of medicines...  Swallow it as a whole,  do not crush, chew, br...\n",
              "996  Arimidex 1mg Tablet  is used alone or with oth...  Arimidex 1mg Tablet  is used alone or with oth...\n",
              "997  Arpimune ME 100mg Capsule is used to prevent y...  You will have frequent medical tests while tak...\n",
              "998  Amlodac CH Tablet is a combination medicine us...  You should have your blood pressure, kidney fu...\n",
              "999  Angizem CD 120 Capsule ER is used to treat ang...  Also, inform your doctor if you have very low ...\n",
              "\n",
              "[1000 rows x 2 columns]"
            ]
          },
          "metadata": {
            "tags": []
          },
          "execution_count": 281
        }
      ]
    },
    {
      "cell_type": "code",
      "metadata": {
        "id": "8VDENKOH75qH",
        "colab_type": "code",
        "colab": {}
      },
      "source": [
        "df.to_excel('TASK.xlsx',index=False)"
      ],
      "execution_count": 282,
      "outputs": []
    },
    {
      "cell_type": "code",
      "metadata": {
        "id": "RYoKloTW8S0f",
        "colab_type": "code",
        "colab": {}
      },
      "source": [
        ""
      ],
      "execution_count": null,
      "outputs": []
    }
  ]
}